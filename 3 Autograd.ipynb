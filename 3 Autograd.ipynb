{
 "cells": [
  {
   "cell_type": "markdown",
   "metadata": {},
   "source": [
    "# Automatic differentiation"
   ]
  },
  {
   "cell_type": "markdown",
   "metadata": {},
   "source": [
    "> Automatic differentiation (AD) is software to transform code\n",
    "for one function into code for the derivative of the function."
   ]
  },
  {
   "cell_type": "markdown",
   "metadata": {},
   "source": [
    "### Example with autograd"
   ]
  },
  {
   "cell_type": "code",
   "execution_count": 2,
   "metadata": {},
   "outputs": [],
   "source": [
    "import matplotlib.pyplot as plt\n",
    "%matplotlib inline\n",
    "\n",
    "from pylab import rcParams\n",
    "rcParams['figure.figsize'] = 8, 5"
   ]
  },
  {
   "cell_type": "code",
   "execution_count": 3,
   "metadata": {},
   "outputs": [],
   "source": [
    "import autograd.numpy as np\n",
    "from autograd import grad, elementwise_grad"
   ]
  },
  {
   "cell_type": "code",
   "execution_count": 4,
   "metadata": {},
   "outputs": [],
   "source": [
    "def f(x):\n",
    "    return 3 * x * x * x"
   ]
  },
  {
   "cell_type": "code",
   "execution_count": 5,
   "metadata": {},
   "outputs": [
    {
     "data": {
      "text/plain": [
       "3000.0"
      ]
     },
     "execution_count": 5,
     "metadata": {},
     "output_type": "execute_result"
    }
   ],
   "source": [
    "f(10.0)"
   ]
  },
  {
   "cell_type": "code",
   "execution_count": 6,
   "metadata": {},
   "outputs": [],
   "source": [
    "fp = grad(f)\n"
   ]
  },
  {
   "cell_type": "code",
   "execution_count": 7,
   "metadata": {},
   "outputs": [
    {
     "data": {
      "text/plain": [
       "<function autograd.wrap_util.unary_to_nary.<locals>.nary_operator.<locals>.nary_f>"
      ]
     },
     "execution_count": 7,
     "metadata": {},
     "output_type": "execute_result"
    }
   ],
   "source": [
    "fp"
   ]
  },
  {
   "cell_type": "code",
   "execution_count": 8,
   "metadata": {},
   "outputs": [
    {
     "data": {
      "text/plain": [
       "900.0"
      ]
     },
     "execution_count": 8,
     "metadata": {},
     "output_type": "execute_result"
    }
   ],
   "source": [
    "fp(10.0)"
   ]
  },
  {
   "cell_type": "code",
   "execution_count": 9,
   "metadata": {},
   "outputs": [],
   "source": [
    "X = np.linspace(-5, 5, 100)"
   ]
  },
  {
   "cell_type": "code",
   "execution_count": 10,
   "metadata": {},
   "outputs": [
    {
     "data": {
      "image/png": "[encoded data removed]",
      "text/plain": [
       "<matplotlib.figure.Figure at 0x10957d550>"
      ]
     },
     "metadata": {},
     "output_type": "display_data"
    }
   ],
   "source": [
    "plt.plot(X, f(X), label=\"f\")\n",
    "plt.plot(X, [fp(x) for x in X], label=\"f'\")\n",
    "plt.legend()\n",
    "plt.grid(True)"
   ]
  },
  {
   "cell_type": "markdown",
   "metadata": {},
   "source": [
    "Autograd is a different library, but it's idea is similar.\n",
    "\n",
    "> We (autograd) want to provide a third way: just write down the loss function using a standard numerical library like Numpy, and Autograd will give you its gradient.\n",
    "\n",
    "[Under the hood](https://github.com/HIPS/autograd/blob/master/docs/tutorial.md#whats-going-on-under-the-hood):\n",
    "\n",
    "> To compute the gradient, Autograd first has to **record every transformation that was applied to the input** as it was turned into the output of your function. To do this, Autograd wraps functions (using the function primitive) so that when they're called, they add themselves to a list of operations performed. Autograd's core has a **table mapping** these wrapped primitives to their corresponding gradient functions."
   ]
  },
  {
   "cell_type": "markdown",
   "metadata": {},
   "source": [
    "# AD with PyTorch"
   ]
  },
  {
   "cell_type": "code",
   "execution_count": 11,
   "metadata": {},
   "outputs": [],
   "source": [
    "import torch\n",
    "from torch.autograd import Variable\n",
    "from torchviz import make_dot"
   ]
  },
  {
   "cell_type": "markdown",
   "metadata": {},
   "source": [
    "What is a variable?\n",
    "\n",
    "![](http://pytorch.org/tutorials/_images/Variable.png)\n",
    "\n",
    "Wraps a tensor and operations."
   ]
  },
  {
   "cell_type": "markdown",
   "metadata": {},
   "source": [
    "### Simple example"
   ]
  },
  {
   "cell_type": "code",
   "execution_count": 12,
   "metadata": {},
   "outputs": [],
   "source": [
    "# Define variables\n",
    "# Placeholder? Is the grad a fucntion?\n",
    "x = Variable(torch.Tensor([1]), requires_grad=True)\n",
    "w = Variable(torch.Tensor([2]), requires_grad=True)\n",
    "b = Variable(torch.Tensor([3]), requires_grad=True)\n"
   ]
  },
  {
   "cell_type": "code",
   "execution_count": 13,
   "metadata": {},
   "outputs": [],
   "source": [
    "# Build a computational graph.\n",
    "y = w * x + b    # y = 2 * x + 3\n"
   ]
  },
  {
   "cell_type": "code",
   "execution_count": 14,
   "metadata": {},
   "outputs": [
    {
     "data": {
      "text/plain": [
       "Variable containing:\n",
       " 5\n",
       "[torch.FloatTensor of size 1]"
      ]
     },
     "execution_count": 14,
     "metadata": {},
     "output_type": "execute_result"
    }
   ],
   "source": [
    "y"
   ]
  },
  {
   "cell_type": "code",
   "execution_count": 15,
   "metadata": {},
   "outputs": [
    {
     "data": {
      "text/plain": [
       "<AddBackward1 at 0x1096276d8>"
      ]
     },
     "execution_count": 15,
     "metadata": {},
     "output_type": "execute_result"
    }
   ],
   "source": [
    "y.grad_fn"
   ]
  },
  {
   "cell_type": "code",
   "execution_count": 16,
   "metadata": {},
   "outputs": [
    {
     "data": {
      "image/svg+xml": [
       "<?xml version=\"1.0\" encoding=\"UTF-8\" standalone=\"no\"?>\n",
       "<!DOCTYPE svg PUBLIC \"-//W3C//DTD SVG 1.1//EN\"\n",
       " \"http://www.w3.org/Graphics/SVG/1.1/DTD/svg11.dtd\">\n",
       "<!-- Generated by graphviz version 2.40.1 (20161225.0304)\n",
       " -->\n",
       "<!-- Title: %3 Pages: 1 -->\n",
       "<svg width=\"188pt\" height=\"168pt\"\n",
       " viewBox=\"0.00 0.00 188.00 168.00\" xmlns=\"http://www.w3.org/2000/svg\" xmlns:xlink=\"http://www.w3.org/1999/xlink\">\n",
       "<g id=\"graph0\" class=\"graph\" transform=\"scale(1 1) rotate(0) translate(4 164)\">\n",
       "<title>%3</title>\n",
       "<polygon fill=\"#ffffff\" stroke=\"transparent\" points=\"-4,4 -4,-164 184,-164 184,4 -4,4\"/>\n",
       "<!-- 4452415192 -->\n",
       "<g id=\"node1\" class=\"node\">\n",
       "<title>4452415192</title>\n",
       "<polygon fill=\"#d3d3d3\" stroke=\"#000000\" points=\"153.8111,-20 62.1889,-20 62.1889,0 153.8111,0 153.8111,-20\"/>\n",
       "<text text-anchor=\"middle\" x=\"108\" y=\"-6.4\" font-family=\"Times,serif\" font-size=\"12.00\" fill=\"#000000\">AddBackward1</text>\n",
       "</g>\n",
       "<!-- 4452536104 -->\n",
       "<g id=\"node2\" class=\"node\">\n",
       "<title>4452536104</title>\n",
       "<polygon fill=\"#d3d3d3\" stroke=\"#000000\" points=\"108.1491,-83 17.8509,-83 17.8509,-63 108.1491,-63 108.1491,-83\"/>\n",
       "<text text-anchor=\"middle\" x=\"63\" y=\"-69.4\" font-family=\"Times,serif\" font-size=\"12.00\" fill=\"#000000\">MulBackward1</text>\n",
       "</g>\n",
       "<!-- 4452536104&#45;&gt;4452415192 -->\n",
       "<g id=\"edge1\" class=\"edge\">\n",
       "<title>4452536104&#45;&gt;4452415192</title>\n",
       "<path fill=\"none\" stroke=\"#000000\" d=\"M70.23,-62.878C76.817,-53.6563 86.7098,-39.8063 94.7186,-28.594\"/>\n",
       "<polygon fill=\"#000000\" stroke=\"#000000\" points=\"97.6741,-30.4779 100.6384,-20.3062 91.9779,-26.4092 97.6741,-30.4779\"/>\n",
       "</g>\n",
       "<!-- 4452535656 -->\n",
       "<g id=\"node3\" class=\"node\">\n",
       "<title>4452535656</title>\n",
       "<polygon fill=\"#add8e6\" stroke=\"#000000\" points=\"54,-160 0,-160 0,-126 54,-126 54,-160\"/>\n",
       "<text text-anchor=\"middle\" x=\"27\" y=\"-132.4\" font-family=\"Times,serif\" font-size=\"12.00\" fill=\"#000000\"> (1)</text>\n",
       "</g>\n",
       "<!-- 4452535656&#45;&gt;4452536104 -->\n",
       "<g id=\"edge2\" class=\"edge\">\n",
       "<title>4452535656&#45;&gt;4452536104</title>\n",
       "<path fill=\"none\" stroke=\"#000000\" d=\"M35.8989,-125.6966C41.0743,-115.6332 47.612,-102.9211 52.9695,-92.5038\"/>\n",
       "<polygon fill=\"#000000\" stroke=\"#000000\" points=\"56.2004,-93.8742 57.6614,-83.3805 49.9754,-90.6727 56.2004,-93.8742\"/>\n",
       "</g>\n",
       "<!-- 4452534032 -->\n",
       "<g id=\"node4\" class=\"node\">\n",
       "<title>4452534032</title>\n",
       "<polygon fill=\"#add8e6\" stroke=\"#000000\" points=\"126,-160 72,-160 72,-126 126,-126 126,-160\"/>\n",
       "<text text-anchor=\"middle\" x=\"99\" y=\"-132.4\" font-family=\"Times,serif\" font-size=\"12.00\" fill=\"#000000\"> (1)</text>\n",
       "</g>\n",
       "<!-- 4452534032&#45;&gt;4452536104 -->\n",
       "<g id=\"edge3\" class=\"edge\">\n",
       "<title>4452534032&#45;&gt;4452536104</title>\n",
       "<path fill=\"none\" stroke=\"#000000\" d=\"M90.1011,-125.6966C84.9257,-115.6332 78.388,-102.9211 73.0305,-92.5038\"/>\n",
       "<polygon fill=\"#000000\" stroke=\"#000000\" points=\"76.0246,-90.6727 68.3386,-83.3805 69.7996,-93.8742 76.0246,-90.6727\"/>\n",
       "</g>\n",
       "<!-- 4452534368 -->\n",
       "<g id=\"node5\" class=\"node\">\n",
       "<title>4452534368</title>\n",
       "<polygon fill=\"#add8e6\" stroke=\"#000000\" points=\"180,-90 126,-90 126,-56 180,-56 180,-90\"/>\n",
       "<text text-anchor=\"middle\" x=\"153\" y=\"-62.4\" font-family=\"Times,serif\" font-size=\"12.00\" fill=\"#000000\"> (1)</text>\n",
       "</g>\n",
       "<!-- 4452534368&#45;&gt;4452415192 -->\n",
       "<g id=\"edge4\" class=\"edge\">\n",
       "<title>4452534368&#45;&gt;4452415192</title>\n",
       "<path fill=\"none\" stroke=\"#000000\" d=\"M140.7036,-55.785C134.6776,-47.3487 127.413,-37.1781 121.2626,-28.5676\"/>\n",
       "<polygon fill=\"#000000\" stroke=\"#000000\" points=\"124.0158,-26.4004 115.3553,-20.2974 118.3196,-30.4691 124.0158,-26.4004\"/>\n",
       "</g>\n",
       "</g>\n",
       "</svg>\n"
      ],
      "text/plain": [
       "<graphviz.dot.Digraph at 0x1096448d0>"
      ]
     },
     "execution_count": 16,
     "metadata": {},
     "output_type": "execute_result"
    }
   ],
   "source": [
    "make_dot(y)"
   ]
  },
  {
   "cell_type": "code",
   "execution_count": 17,
   "metadata": {},
   "outputs": [],
   "source": [
    "# Compute gradients.\n",
    "y.backward()"
   ]
  },
  {
   "cell_type": "code",
   "execution_count": 18,
   "metadata": {},
   "outputs": [
    {
     "name": "stdout",
     "output_type": "stream",
     "text": [
      "Variable containing:\n",
      " 2\n",
      "[torch.FloatTensor of size 1]\n",
      "\n",
      "Variable containing:\n",
      " 1\n",
      "[torch.FloatTensor of size 1]\n",
      "\n",
      "Variable containing:\n",
      " 1\n",
      "[torch.FloatTensor of size 1]\n",
      "\n"
     ]
    }
   ],
   "source": [
    "# Print out the gradients. y = w * x + b    # y = 2 * x + 3\n",
    "\n",
    "print(x.grad)    # x.grad = 2 \n",
    "print(w.grad)    # w.grad = 1 \n",
    "print(b.grad)    # b.grad = 1 \n"
   ]
  },
  {
   "cell_type": "markdown",
   "metadata": {},
   "source": [
    "$\n",
    "\\frac{\\partial y}{\\partial x} = w\\\\\n",
    "\\frac{\\partial y}{\\partial w} = x\\\\\n",
    "\\frac{\\partial y}{\\partial b} = 1\\\\\n",
    "$\n",
    "\n",
    "With x, w, b = [1, 2, 3] the gradients are: 2, 1, 1."
   ]
  },
  {
   "cell_type": "code",
   "execution_count": null,
   "metadata": {},
   "outputs": [],
   "source": [
    "[x.grad.data, w.grad.data, b.grad.data]"
   ]
  },
  {
   "cell_type": "markdown",
   "metadata": {},
   "source": [
    "Interpretation:\n",
    "* If we increase x by 1, our output will increase by 2.\n",
    "* If we increase w by 1, our output will increase by 1.\n",
    "* If we increase b by 1, our output will increate by 1."
   ]
  },
  {
   "cell_type": "markdown",
   "metadata": {},
   "source": [
    "### Five node example\n"
   ]
  },
  {
   "cell_type": "code",
   "execution_count": null,
   "metadata": {},
   "outputs": [],
   "source": [
    "x = Variable(torch.ones(2, 2), requires_grad=True)"
   ]
  },
  {
   "cell_type": "code",
   "execution_count": null,
   "metadata": {},
   "outputs": [],
   "source": [
    "x"
   ]
  },
  {
   "cell_type": "code",
   "execution_count": null,
   "metadata": {},
   "outputs": [],
   "source": [
    "y = x + 2"
   ]
  },
  {
   "cell_type": "code",
   "execution_count": null,
   "metadata": {},
   "outputs": [],
   "source": [
    "y"
   ]
  },
  {
   "cell_type": "markdown",
   "metadata": {},
   "source": [
    "y is the result of an operation, it has a `grad_fn`"
   ]
  },
  {
   "cell_type": "code",
   "execution_count": null,
   "metadata": {},
   "outputs": [],
   "source": [
    "y.grad_fn # references a Function that has created the Variable"
   ]
  },
  {
   "cell_type": "code",
   "execution_count": null,
   "metadata": {},
   "outputs": [],
   "source": [
    "# More operations ...."
   ]
  },
  {
   "cell_type": "code",
   "execution_count": null,
   "metadata": {},
   "outputs": [],
   "source": [
    "z = y * y * 3"
   ]
  },
  {
   "cell_type": "code",
   "execution_count": null,
   "metadata": {},
   "outputs": [],
   "source": [
    "z"
   ]
  },
  {
   "cell_type": "code",
   "execution_count": null,
   "metadata": {},
   "outputs": [],
   "source": [
    "z.grad_fn"
   ]
  },
  {
   "cell_type": "code",
   "execution_count": null,
   "metadata": {},
   "outputs": [],
   "source": [
    "# Not just arithmetic."
   ]
  },
  {
   "cell_type": "code",
   "execution_count": null,
   "metadata": {},
   "outputs": [],
   "source": [
    "out = z.mean()"
   ]
  },
  {
   "cell_type": "code",
   "execution_count": null,
   "metadata": {},
   "outputs": [],
   "source": [
    "out"
   ]
  },
  {
   "cell_type": "code",
   "execution_count": null,
   "metadata": {},
   "outputs": [],
   "source": [
    "# Run backpropagation."
   ]
  },
  {
   "cell_type": "code",
   "execution_count": null,
   "metadata": {},
   "outputs": [],
   "source": [
    "out.backward() # out.backward(torch.Tensor([1.0])) # with respect to some scalar value."
   ]
  },
  {
   "cell_type": "code",
   "execution_count": null,
   "metadata": {},
   "outputs": [],
   "source": [
    "print(x.grad)"
   ]
  },
  {
   "cell_type": "markdown",
   "metadata": {},
   "source": [
    "> When using autograd, the forward pass of your network will define a computational graph; nodes in the graph will be Tensors, and edges will be functions that produce output Tensors from input Tensors. Backpropagating through this graph then allows you to easily compute gradients."
   ]
  },
  {
   "cell_type": "code",
   "execution_count": null,
   "metadata": {},
   "outputs": [],
   "source": [
    "make_dot(out)"
   ]
  },
  {
   "cell_type": "code",
   "execution_count": null,
   "metadata": {},
   "outputs": [],
   "source": [
    "x.grad"
   ]
  }
 ],
 "metadata": {
  "kernelspec": {
   "display_name": "Python 3",
   "language": "python",
   "name": "python3"
  },
  "language_info": {
   "codemirror_mode": {
    "name": "ipython",
    "version": 3
   },
   "file_extension": ".py",
   "mimetype": "text/x-python",
   "name": "python",
   "nbconvert_exporter": "python",
   "pygments_lexer": "ipython3",
   "version": "3.6.4"
  }
 },
 "nbformat": 4,
 "nbformat_minor": 2
}
