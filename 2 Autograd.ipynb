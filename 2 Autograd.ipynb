{
 "cells": [
  {
   "cell_type": "markdown",
   "metadata": {},
   "source": [
    "# Automatic differentiation"
   ]
  },
  {
   "cell_type": "markdown",
   "metadata": {},
   "source": [
    "> Automatic differentiation (AD) is software to transform code\n",
    "for one function into code for the derivative of the function."
   ]
  },
  {
   "cell_type": "markdown",
   "metadata": {},
   "source": [
    "### Example with autograd"
   ]
  },
  {
   "cell_type": "code",
   "execution_count": 73,
   "metadata": {},
   "outputs": [],
   "source": [
    "import matplotlib.pyplot as plt\n",
    "%matplotlib inline\n",
    "\n",
    "from pylab import rcParams\n",
    "rcParams['figure.figsize'] = 8, 5"
   ]
  },
  {
   "cell_type": "code",
   "execution_count": 74,
   "metadata": {},
   "outputs": [],
   "source": [
    "import autograd.numpy as np\n",
    "from autograd import grad, elementwise_grad"
   ]
  },
  {
   "cell_type": "code",
   "execution_count": 75,
   "metadata": {},
   "outputs": [],
   "source": [
    "def f(x):\n",
    "    return 3 * x * x * x"
   ]
  },
  {
   "cell_type": "code",
   "execution_count": 76,
   "metadata": {},
   "outputs": [
    {
     "data": {
      "text/plain": [
       "3000.0"
      ]
     },
     "execution_count": 76,
     "metadata": {},
     "output_type": "execute_result"
    }
   ],
   "source": [
    "f(10.0)"
   ]
  },
  {
   "cell_type": "code",
   "execution_count": 77,
   "metadata": {},
   "outputs": [
    {
     "data": {
      "text/plain": [
       "900.0"
      ]
     },
     "execution_count": 77,
     "metadata": {},
     "output_type": "execute_result"
    }
   ],
   "source": [
    "fp = grad(f)\n",
    "fp(10.0)"
   ]
  },
  {
   "cell_type": "code",
   "execution_count": 78,
   "metadata": {},
   "outputs": [],
   "source": [
    "X = np.linspace(-5, 5, 100)"
   ]
  },
  {
   "cell_type": "code",
   "execution_count": 79,
   "metadata": {},
   "outputs": [
    {
     "data": {
      "image/png": "[encoded data removed]",
      "text/plain": [
       "<matplotlib.figure.Figure at 0x106276eb8>"
      ]
     },
     "metadata": {},
     "output_type": "display_data"
    }
   ],
   "source": [
    "plt.plot(X, f(X), label=\"f\")\n",
    "plt.plot(X, [fp(x) for x in X], label=\"f'\")\n",
    "plt.legend()\n",
    "plt.grid(True)"
   ]
  },
  {
   "cell_type": "markdown",
   "metadata": {},
   "source": [
    "# AD with PyTorch"
   ]
  },
  {
   "cell_type": "code",
   "execution_count": 98,
   "metadata": {},
   "outputs": [],
   "source": [
    "import torch\n",
    "from torch.autograd import Variable\n",
    "from torchviz import make_dot"
   ]
  },
  {
   "cell_type": "markdown",
   "metadata": {},
   "source": [
    "What is a variable?\n",
    "\n",
    "![](http://pytorch.org/tutorials/_images/Variable.png)\n",
    "\n",
    "Wraps a tensor and operations."
   ]
  },
  {
   "cell_type": "markdown",
   "metadata": {},
   "source": [
    "### Simple example"
   ]
  },
  {
   "cell_type": "code",
   "execution_count": 104,
   "metadata": {},
   "outputs": [],
   "source": [
    "# Define variables\n",
    "\n",
    "x = Variable(torch.Tensor([1]), requires_grad=True)\n",
    "w = Variable(torch.Tensor([2]), requires_grad=True)\n",
    "b = Variable(torch.Tensor([3]), requires_grad=True)\n"
   ]
  },
  {
   "cell_type": "code",
   "execution_count": 105,
   "metadata": {},
   "outputs": [],
   "source": [
    "# Build a computational graph.\n",
    "y = w * x + b    # y = 2 * x + 3\n"
   ]
  },
  {
   "cell_type": "code",
   "execution_count": 108,
   "metadata": {},
   "outputs": [
    {
     "data": {
      "text/plain": [
       "Variable containing:\n",
       " 5\n",
       "[torch.FloatTensor of size 1]"
      ]
     },
     "execution_count": 108,
     "metadata": {},
     "output_type": "execute_result"
    }
   ],
   "source": [
    "y"
   ]
  },
  {
   "cell_type": "code",
   "execution_count": 109,
   "metadata": {},
   "outputs": [
    {
     "data": {
      "text/plain": [
       "<AddBackward1 at 0x105b2a9b0>"
      ]
     },
     "execution_count": 109,
     "metadata": {},
     "output_type": "execute_result"
    }
   ],
   "source": [
    "y.grad_fn"
   ]
  },
  {
   "cell_type": "code",
   "execution_count": 110,
   "metadata": {},
   "outputs": [
    {
     "data": {
      "image/svg+xml": [
       "<?xml version=\"1.0\" encoding=\"UTF-8\" standalone=\"no\"?>\n",
       "<!DOCTYPE svg PUBLIC \"-//W3C//DTD SVG 1.1//EN\"\n",
       " \"http://www.w3.org/Graphics/SVG/1.1/DTD/svg11.dtd\">\n",
       "<!-- Generated by graphviz version 2.40.1 (20161225.0304)\n",
       " -->\n",
       "<!-- Title: %3 Pages: 1 -->\n",
       "<svg width=\"188pt\" height=\"168pt\"\n",
       " viewBox=\"0.00 0.00 188.00 168.00\" xmlns=\"http://www.w3.org/2000/svg\" xmlns:xlink=\"http://www.w3.org/1999/xlink\">\n",
       "<g id=\"graph0\" class=\"graph\" transform=\"scale(1 1) rotate(0) translate(4 164)\">\n",
       "<title>%3</title>\n",
       "<polygon fill=\"#ffffff\" stroke=\"transparent\" points=\"-4,4 -4,-164 184,-164 184,4 -4,4\"/>\n",
       "<!-- 4390562224 -->\n",
       "<g id=\"node1\" class=\"node\">\n",
       "<title>4390562224</title>\n",
       "<polygon fill=\"#d3d3d3\" stroke=\"#000000\" points=\"153.8111,-20 62.1889,-20 62.1889,0 153.8111,0 153.8111,-20\"/>\n",
       "<text text-anchor=\"middle\" x=\"108\" y=\"-6.4\" font-family=\"Times,serif\" font-size=\"12.00\" fill=\"#000000\">AddBackward1</text>\n",
       "</g>\n",
       "<!-- 4390561832 -->\n",
       "<g id=\"node2\" class=\"node\">\n",
       "<title>4390561832</title>\n",
       "<polygon fill=\"#d3d3d3\" stroke=\"#000000\" points=\"108.1491,-83 17.8509,-83 17.8509,-63 108.1491,-63 108.1491,-83\"/>\n",
       "<text text-anchor=\"middle\" x=\"63\" y=\"-69.4\" font-family=\"Times,serif\" font-size=\"12.00\" fill=\"#000000\">MulBackward1</text>\n",
       "</g>\n",
       "<!-- 4390561832&#45;&gt;4390562224 -->\n",
       "<g id=\"edge1\" class=\"edge\">\n",
       "<title>4390561832&#45;&gt;4390562224</title>\n",
       "<path fill=\"none\" stroke=\"#000000\" d=\"M70.23,-62.878C76.817,-53.6563 86.7098,-39.8063 94.7186,-28.594\"/>\n",
       "<polygon fill=\"#000000\" stroke=\"#000000\" points=\"97.6741,-30.4779 100.6384,-20.3062 91.9779,-26.4092 97.6741,-30.4779\"/>\n",
       "</g>\n",
       "<!-- 4390563008 -->\n",
       "<g id=\"node3\" class=\"node\">\n",
       "<title>4390563008</title>\n",
       "<polygon fill=\"#add8e6\" stroke=\"#000000\" points=\"54,-160 0,-160 0,-126 54,-126 54,-160\"/>\n",
       "<text text-anchor=\"middle\" x=\"27\" y=\"-132.4\" font-family=\"Times,serif\" font-size=\"12.00\" fill=\"#000000\"> (1)</text>\n",
       "</g>\n",
       "<!-- 4390563008&#45;&gt;4390561832 -->\n",
       "<g id=\"edge2\" class=\"edge\">\n",
       "<title>4390563008&#45;&gt;4390561832</title>\n",
       "<path fill=\"none\" stroke=\"#000000\" d=\"M35.8989,-125.6966C41.0743,-115.6332 47.612,-102.9211 52.9695,-92.5038\"/>\n",
       "<polygon fill=\"#000000\" stroke=\"#000000\" points=\"56.2004,-93.8742 57.6614,-83.3805 49.9754,-90.6727 56.2004,-93.8742\"/>\n",
       "</g>\n",
       "<!-- 4390562784 -->\n",
       "<g id=\"node4\" class=\"node\">\n",
       "<title>4390562784</title>\n",
       "<polygon fill=\"#add8e6\" stroke=\"#000000\" points=\"126,-160 72,-160 72,-126 126,-126 126,-160\"/>\n",
       "<text text-anchor=\"middle\" x=\"99\" y=\"-132.4\" font-family=\"Times,serif\" font-size=\"12.00\" fill=\"#000000\"> (1)</text>\n",
       "</g>\n",
       "<!-- 4390562784&#45;&gt;4390561832 -->\n",
       "<g id=\"edge3\" class=\"edge\">\n",
       "<title>4390562784&#45;&gt;4390561832</title>\n",
       "<path fill=\"none\" stroke=\"#000000\" d=\"M90.1011,-125.6966C84.9257,-115.6332 78.388,-102.9211 73.0305,-92.5038\"/>\n",
       "<polygon fill=\"#000000\" stroke=\"#000000\" points=\"76.0246,-90.6727 68.3386,-83.3805 69.7996,-93.8742 76.0246,-90.6727\"/>\n",
       "</g>\n",
       "<!-- 4390563288 -->\n",
       "<g id=\"node5\" class=\"node\">\n",
       "<title>4390563288</title>\n",
       "<polygon fill=\"#add8e6\" stroke=\"#000000\" points=\"180,-90 126,-90 126,-56 180,-56 180,-90\"/>\n",
       "<text text-anchor=\"middle\" x=\"153\" y=\"-62.4\" font-family=\"Times,serif\" font-size=\"12.00\" fill=\"#000000\"> (1)</text>\n",
       "</g>\n",
       "<!-- 4390563288&#45;&gt;4390562224 -->\n",
       "<g id=\"edge4\" class=\"edge\">\n",
       "<title>4390563288&#45;&gt;4390562224</title>\n",
       "<path fill=\"none\" stroke=\"#000000\" d=\"M140.7036,-55.785C134.6776,-47.3487 127.413,-37.1781 121.2626,-28.5676\"/>\n",
       "<polygon fill=\"#000000\" stroke=\"#000000\" points=\"124.0158,-26.4004 115.3553,-20.2974 118.3196,-30.4691 124.0158,-26.4004\"/>\n",
       "</g>\n",
       "</g>\n",
       "</svg>\n"
      ],
      "text/plain": [
       "<graphviz.dot.Digraph at 0x105b2ad68>"
      ]
     },
     "execution_count": 110,
     "metadata": {},
     "output_type": "execute_result"
    }
   ],
   "source": [
    "make_dot(y)"
   ]
  },
  {
   "cell_type": "code",
   "execution_count": 111,
   "metadata": {},
   "outputs": [],
   "source": [
    "# Compute gradients.\n",
    "y.backward()"
   ]
  },
  {
   "cell_type": "code",
   "execution_count": 113,
   "metadata": {},
   "outputs": [
    {
     "name": "stdout",
     "output_type": "stream",
     "text": [
      "Variable containing:\n",
      " 2\n",
      "[torch.FloatTensor of size 1]\n",
      "\n",
      "Variable containing:\n",
      " 1\n",
      "[torch.FloatTensor of size 1]\n",
      "\n",
      "Variable containing:\n",
      " 1\n",
      "[torch.FloatTensor of size 1]\n",
      "\n"
     ]
    }
   ],
   "source": [
    "# Print out the gradients. y = w * x + b    # y = 2 * x + 3\n",
    "\n",
    "print(x.grad)    # x.grad = 2 \n",
    "print(w.grad)    # w.grad = 1 \n",
    "print(b.grad)    # b.grad = 1 \n"
   ]
  },
  {
   "cell_type": "markdown",
   "metadata": {},
   "source": [
    "$\n",
    "\\frac{\\partial y}{\\partial x} = w\\\\\n",
    "\\frac{\\partial y}{\\partial w} = x\\\\\n",
    "\\frac{\\partial y}{\\partial b} = 1\\\\\n",
    "$\n",
    "\n",
    "With x, w, b = [1, 2, 3] the gradients are: 2, 1, 1."
   ]
  },
  {
   "cell_type": "code",
   "execution_count": 128,
   "metadata": {},
   "outputs": [
    {
     "data": {
      "text/plain": [
       "[\n",
       "  2\n",
       " [torch.FloatTensor of size 1], \n",
       "  1\n",
       " [torch.FloatTensor of size 1], \n",
       "  1\n",
       " [torch.FloatTensor of size 1]]"
      ]
     },
     "execution_count": 128,
     "metadata": {},
     "output_type": "execute_result"
    }
   ],
   "source": [
    "[x.grad.data, w.grad.data, b.grad.data]"
   ]
  },
  {
   "cell_type": "markdown",
   "metadata": {},
   "source": [
    "Interpretation:\n",
    "* If we increase x by 1, our output will increase by 2.\n",
    "* If we increase w by 1, our output will increase by 1.\n",
    "* If we increase b by 1, our output will increate by 1."
   ]
  },
  {
   "cell_type": "markdown",
   "metadata": {},
   "source": [
    "### Five node example\n"
   ]
  },
  {
   "cell_type": "code",
   "execution_count": 130,
   "metadata": {},
   "outputs": [],
   "source": [
    "x = Variable(torch.ones(2, 2), requires_grad=True)"
   ]
  },
  {
   "cell_type": "code",
   "execution_count": 131,
   "metadata": {},
   "outputs": [
    {
     "data": {
      "text/plain": [
       "Variable containing:\n",
       " 1  1\n",
       " 1  1\n",
       "[torch.FloatTensor of size 2x2]"
      ]
     },
     "execution_count": 131,
     "metadata": {},
     "output_type": "execute_result"
    }
   ],
   "source": [
    "x"
   ]
  },
  {
   "cell_type": "code",
   "execution_count": 132,
   "metadata": {},
   "outputs": [],
   "source": [
    "y = x + 2"
   ]
  },
  {
   "cell_type": "code",
   "execution_count": 133,
   "metadata": {},
   "outputs": [
    {
     "data": {
      "text/plain": [
       "Variable containing:\n",
       " 3  3\n",
       " 3  3\n",
       "[torch.FloatTensor of size 2x2]"
      ]
     },
     "execution_count": 133,
     "metadata": {},
     "output_type": "execute_result"
    }
   ],
   "source": [
    "y"
   ]
  },
  {
   "cell_type": "markdown",
   "metadata": {},
   "source": [
    "y is the result of an operation, it has a `grad_fn`"
   ]
  },
  {
   "cell_type": "code",
   "execution_count": 134,
   "metadata": {},
   "outputs": [
    {
     "data": {
      "text/plain": [
       "<AddBackward0 at 0x108754048>"
      ]
     },
     "execution_count": 134,
     "metadata": {},
     "output_type": "execute_result"
    }
   ],
   "source": [
    "y.grad_fn # references a Function that has created the Variable"
   ]
  },
  {
   "cell_type": "code",
   "execution_count": 135,
   "metadata": {},
   "outputs": [],
   "source": [
    "# More operations ...."
   ]
  },
  {
   "cell_type": "code",
   "execution_count": 136,
   "metadata": {},
   "outputs": [],
   "source": [
    "z = y * y * 3"
   ]
  },
  {
   "cell_type": "code",
   "execution_count": 137,
   "metadata": {},
   "outputs": [
    {
     "data": {
      "text/plain": [
       "Variable containing:\n",
       " 27  27\n",
       " 27  27\n",
       "[torch.FloatTensor of size 2x2]"
      ]
     },
     "execution_count": 137,
     "metadata": {},
     "output_type": "execute_result"
    }
   ],
   "source": [
    "z"
   ]
  },
  {
   "cell_type": "code",
   "execution_count": 138,
   "metadata": {},
   "outputs": [
    {
     "data": {
      "text/plain": [
       "<MulBackward0 at 0x108754898>"
      ]
     },
     "execution_count": 138,
     "metadata": {},
     "output_type": "execute_result"
    }
   ],
   "source": [
    "z.grad_fn"
   ]
  },
  {
   "cell_type": "code",
   "execution_count": 139,
   "metadata": {},
   "outputs": [],
   "source": [
    "# Not just arithmetic."
   ]
  },
  {
   "cell_type": "code",
   "execution_count": 140,
   "metadata": {},
   "outputs": [],
   "source": [
    "out = z.mean()"
   ]
  },
  {
   "cell_type": "code",
   "execution_count": 141,
   "metadata": {},
   "outputs": [
    {
     "data": {
      "text/plain": [
       "Variable containing:\n",
       " 27\n",
       "[torch.FloatTensor of size 1]"
      ]
     },
     "execution_count": 141,
     "metadata": {},
     "output_type": "execute_result"
    }
   ],
   "source": [
    "out"
   ]
  },
  {
   "cell_type": "code",
   "execution_count": 142,
   "metadata": {},
   "outputs": [],
   "source": [
    "# Run backpropagation."
   ]
  },
  {
   "cell_type": "code",
   "execution_count": 143,
   "metadata": {},
   "outputs": [],
   "source": [
    "out.backward() # out.backward(torch.Tensor([1.0])) # with respect to some scalar value."
   ]
  },
  {
   "cell_type": "code",
   "execution_count": 144,
   "metadata": {},
   "outputs": [
    {
     "name": "stdout",
     "output_type": "stream",
     "text": [
      "Variable containing:\n",
      " 4.5000  4.5000\n",
      " 4.5000  4.5000\n",
      "[torch.FloatTensor of size 2x2]\n",
      "\n"
     ]
    }
   ],
   "source": [
    "print(x.grad)"
   ]
  },
  {
   "cell_type": "markdown",
   "metadata": {},
   "source": [
    "> When using autograd, the forward pass of your network will define a computational graph; nodes in the graph will be Tensors, and edges will be functions that produce output Tensors from input Tensors. Backpropagating through this graph then allows you to easily compute gradients."
   ]
  },
  {
   "cell_type": "code",
   "execution_count": 145,
   "metadata": {},
   "outputs": [
    {
     "data": {
      "image/svg+xml": [
       "<?xml version=\"1.0\" encoding=\"UTF-8\" standalone=\"no\"?>\n",
       "<!DOCTYPE svg PUBLIC \"-//W3C//DTD SVG 1.1//EN\"\n",
       " \"http://www.w3.org/Graphics/SVG/1.1/DTD/svg11.dtd\">\n",
       "<!-- Generated by graphviz version 2.40.1 (20161225.0304)\n",
       " -->\n",
       "<!-- Title: %3 Pages: 1 -->\n",
       "<svg width=\"106pt\" height=\"266pt\"\n",
       " viewBox=\"0.00 0.00 105.97 266.00\" xmlns=\"http://www.w3.org/2000/svg\" xmlns:xlink=\"http://www.w3.org/1999/xlink\">\n",
       "<g id=\"graph0\" class=\"graph\" transform=\"scale(1 1) rotate(0) translate(4 262)\">\n",
       "<title>%3</title>\n",
       "<polygon fill=\"#ffffff\" stroke=\"transparent\" points=\"-4,4 -4,-262 101.9668,-262 101.9668,4 -4,4\"/>\n",
       "<!-- 4436869752 -->\n",
       "<g id=\"node1\" class=\"node\">\n",
       "<title>4436869752</title>\n",
       "<polygon fill=\"#d3d3d3\" stroke=\"#000000\" points=\"97.9502,-20 .0166,-20 .0166,0 97.9502,0 97.9502,-20\"/>\n",
       "<text text-anchor=\"middle\" x=\"48.9834\" y=\"-6.4\" font-family=\"Times,serif\" font-size=\"12.00\" fill=\"#000000\">MeanBackward1</text>\n",
       "</g>\n",
       "<!-- 4436871320 -->\n",
       "<g id=\"node2\" class=\"node\">\n",
       "<title>4436871320</title>\n",
       "<polygon fill=\"#d3d3d3\" stroke=\"#000000\" points=\"94.1325,-76 3.8343,-76 3.8343,-56 94.1325,-56 94.1325,-76\"/>\n",
       "<text text-anchor=\"middle\" x=\"48.9834\" y=\"-62.4\" font-family=\"Times,serif\" font-size=\"12.00\" fill=\"#000000\">MulBackward0</text>\n",
       "</g>\n",
       "<!-- 4436871320&#45;&gt;4436869752 -->\n",
       "<g id=\"edge1\" class=\"edge\">\n",
       "<title>4436871320&#45;&gt;4436869752</title>\n",
       "<path fill=\"none\" stroke=\"#000000\" d=\"M48.9834,-55.9883C48.9834,-48.9098 48.9834,-39.1714 48.9834,-30.4779\"/>\n",
       "<polygon fill=\"#000000\" stroke=\"#000000\" points=\"52.4835,-30.3038 48.9834,-20.3039 45.4835,-30.3039 52.4835,-30.3038\"/>\n",
       "</g>\n",
       "<!-- 4436870872 -->\n",
       "<g id=\"node3\" class=\"node\">\n",
       "<title>4436870872</title>\n",
       "<polygon fill=\"#d3d3d3\" stroke=\"#000000\" points=\"94.1325,-132 3.8343,-132 3.8343,-112 94.1325,-112 94.1325,-132\"/>\n",
       "<text text-anchor=\"middle\" x=\"48.9834\" y=\"-118.4\" font-family=\"Times,serif\" font-size=\"12.00\" fill=\"#000000\">MulBackward1</text>\n",
       "</g>\n",
       "<!-- 4436870872&#45;&gt;4436871320 -->\n",
       "<g id=\"edge2\" class=\"edge\">\n",
       "<title>4436870872&#45;&gt;4436871320</title>\n",
       "<path fill=\"none\" stroke=\"#000000\" d=\"M48.9834,-111.9883C48.9834,-104.9098 48.9834,-95.1714 48.9834,-86.4779\"/>\n",
       "<polygon fill=\"#000000\" stroke=\"#000000\" points=\"52.4835,-86.3038 48.9834,-76.3039 45.4835,-86.3039 52.4835,-86.3038\"/>\n",
       "</g>\n",
       "<!-- 4436869192 -->\n",
       "<g id=\"node4\" class=\"node\">\n",
       "<title>4436869192</title>\n",
       "<polygon fill=\"#d3d3d3\" stroke=\"#000000\" points=\"94.7945,-188 3.1723,-188 3.1723,-168 94.7945,-168 94.7945,-188\"/>\n",
       "<text text-anchor=\"middle\" x=\"48.9834\" y=\"-174.4\" font-family=\"Times,serif\" font-size=\"12.00\" fill=\"#000000\">AddBackward0</text>\n",
       "</g>\n",
       "<!-- 4436869192&#45;&gt;4436870872 -->\n",
       "<g id=\"edge3\" class=\"edge\">\n",
       "<title>4436869192&#45;&gt;4436870872</title>\n",
       "<path fill=\"none\" stroke=\"#000000\" d=\"M43.6675,-167.9883C42.3358,-160.9098 41.9316,-151.1714 42.4547,-142.4779\"/>\n",
       "<polygon fill=\"#000000\" stroke=\"#000000\" points=\"45.9593,-142.6357 43.6134,-132.3039 39.0042,-141.8436 45.9593,-142.6357\"/>\n",
       "</g>\n",
       "<!-- 4436869192&#45;&gt;4436870872 -->\n",
       "<g id=\"edge5\" class=\"edge\">\n",
       "<title>4436869192&#45;&gt;4436870872</title>\n",
       "<path fill=\"none\" stroke=\"#000000\" d=\"M54.2993,-167.9883C55.6309,-160.9098 56.0352,-151.1714 55.5121,-142.4779\"/>\n",
       "<polygon fill=\"#000000\" stroke=\"#000000\" points=\"58.9626,-141.8436 54.3534,-132.3039 52.0075,-142.6357 58.9626,-141.8436\"/>\n",
       "</g>\n",
       "<!-- 4436871208 -->\n",
       "<g id=\"node5\" class=\"node\">\n",
       "<title>4436871208</title>\n",
       "<polygon fill=\"#add8e6\" stroke=\"#000000\" points=\"75.9834,-258 21.9834,-258 21.9834,-224 75.9834,-224 75.9834,-258\"/>\n",
       "<text text-anchor=\"middle\" x=\"48.9834\" y=\"-230.4\" font-family=\"Times,serif\" font-size=\"12.00\" fill=\"#000000\"> (2, 2)</text>\n",
       "</g>\n",
       "<!-- 4436871208&#45;&gt;4436869192 -->\n",
       "<g id=\"edge4\" class=\"edge\">\n",
       "<title>4436871208&#45;&gt;4436869192</title>\n",
       "<path fill=\"none\" stroke=\"#000000\" d=\"M48.9834,-223.785C48.9834,-215.9703 48.9834,-206.6675 48.9834,-198.4951\"/>\n",
       "<polygon fill=\"#000000\" stroke=\"#000000\" points=\"52.4835,-198.2974 48.9834,-188.2974 45.4835,-198.2974 52.4835,-198.2974\"/>\n",
       "</g>\n",
       "</g>\n",
       "</svg>\n"
      ],
      "text/plain": [
       "<graphviz.dot.Digraph at 0x108754550>"
      ]
     },
     "execution_count": 145,
     "metadata": {},
     "output_type": "execute_result"
    }
   ],
   "source": [
    "make_dot(out)"
   ]
  },
  {
   "cell_type": "code",
   "execution_count": 149,
   "metadata": {},
   "outputs": [
    {
     "data": {
      "text/plain": [
       "Variable containing:\n",
       " 4.5000  4.5000\n",
       " 4.5000  4.5000\n",
       "[torch.FloatTensor of size 2x2]"
      ]
     },
     "execution_count": 149,
     "metadata": {},
     "output_type": "execute_result"
    }
   ],
   "source": [
    "x.grad"
   ]
  }
 ],
 "metadata": {
  "kernelspec": {
   "display_name": "Python 3",
   "language": "python",
   "name": "python3"
  },
  "language_info": {
   "codemirror_mode": {
    "name": "ipython",
    "version": 3
   },
   "file_extension": ".py",
   "mimetype": "text/x-python",
   "name": "python",
   "nbconvert_exporter": "python",
   "pygments_lexer": "ipython3",
   "version": "3.6.4"
  }
 },
 "nbformat": 4,
 "nbformat_minor": 2
}
